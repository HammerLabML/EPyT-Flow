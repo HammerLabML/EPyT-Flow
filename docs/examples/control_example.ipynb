{
 "cells": [
  {
   "cell_type": "markdown",
   "metadata": {},
   "source": [
    "# Custom Control Example"
   ]
  },
  {
   "cell_type": "code",
   "execution_count": null,
   "metadata": {},
   "outputs": [],
   "source": [
    "from IPython.display import display, HTML\n",
    "display(HTML('<a target=\"_blank\" href=\"https://colab.research.google.com/github/https://raw.githubusercontent.com/KIOS-Research/EPyT-Flow-Dev/main/docs/examples/control_example.ipynb\"><img src=\"https://colab.research.google.com/assets/colab-badge.svg\" alt=\"Open In Colab\"/></a>'))"
   ]
  },
  {
   "cell_type": "markdown",
   "metadata": {},
   "source": [
    "This example demonstrates how to implement a custom control module/rules."
   ]
  },
  {
   "cell_type": "code",
   "execution_count": null,
   "metadata": {},
   "outputs": [],
   "source": [
    "from epyt_flow.data.networks import load_net1\n",
    "from epyt_flow.simulation import ScenarioSimulator\n",
    "from epyt_flow.simulation import AdvancedControlModule, ScadaData\n",
    "from epyt_flow.utils import to_seconds, volume_to_level, plot_timeseries_data\n",
    "from epyt_flow.simulation.events import ActuatorConstants"
   ]
  },
  {
   "cell_type": "markdown",
   "metadata": {},
   "source": [
    "A control module mimicing the control rules stated in Net1.inp"
   ]
  },
  {
   "cell_type": "code",
   "execution_count": null,
   "metadata": {},
   "outputs": [],
   "source": [
    "class MyControl(AdvancedControlModule):\n",
    "    def __init__(self, **kwds):\n",
    "        # Tank and pump ID\n",
    "        self.__tank_id = \"2\"\n",
    "        self.__pump_id = \"9\"\n",
    "\n",
    "        # Tank diameter could be also obtained by calling epyt.epanet.getNodeTankData\n",
    "        self.__tank_diameter = 50.5\n",
    "\n",
    "        # Lower and upper threshold on tank level\n",
    "        self.__lower_level_threshold = 110\n",
    "        self.__upper_level_threshold = 140\n",
    "\n",
    "        super().__init__(**kwds)\n",
    "\n",
    "    def step(self, scada_data: ScadaData) -> None:\n",
    "        # Retrieve current water level in the tank\n",
    "        tank_volume = scada_data.get_data_tanks_water_volume([self.__tank_id])[0, 0]\n",
    "        tank_level = volume_to_level(float(tank_volume), self.__tank_diameter)\n",
    "\n",
    "        # Decide if pump has to be deactivated or re-activated\n",
    "        if tank_level <= self.__lower_level_threshold:\n",
    "            self.set_pump_status(self.__pump_id, ActuatorConstants.EN_OPEN)\n",
    "        elif tank_level >= self.__upper_level_threshold:\n",
    "            self.set_pump_status(self.__pump_id, ActuatorConstants.EN_CLOSED)"
   ]
  },
  {
   "cell_type": "markdown",
   "metadata": {},
   "source": [
    "Create new simulation based on Net1"
   ]
  },
  {
   "cell_type": "code",
   "execution_count": null,
   "metadata": {},
   "outputs": [],
   "source": [
    "sim = ScenarioSimulator(scenario_config=load_net1(verbose=False))"
   ]
  },
  {
   "cell_type": "markdown",
   "metadata": {},
   "source": [
    "Set simulation duration to two days"
   ]
  },
  {
   "cell_type": "code",
   "execution_count": null,
   "metadata": {},
   "outputs": [],
   "source": [
    "sim.set_general_parameters(simulation_duration=to_seconds(days=2))"
   ]
  },
  {
   "cell_type": "markdown",
   "metadata": {},
   "source": [
    "Monitor states of tank \"2\" and pump \"9\""
   ]
  },
  {
   "cell_type": "code",
   "execution_count": null,
   "metadata": {},
   "outputs": [],
   "source": [
    "sim.set_tank_sensors(sensor_locations=[\"2\"])\n",
    "sim.set_pump_sensors(sensor_locations=[\"9\"])"
   ]
  },
  {
   "cell_type": "markdown",
   "metadata": {},
   "source": [
    "Remove all existing controls"
   ]
  },
  {
   "cell_type": "code",
   "execution_count": null,
   "metadata": {},
   "outputs": [],
   "source": [
    "sim.epanet_api.deleteControls()"
   ]
  },
  {
   "cell_type": "markdown",
   "metadata": {},
   "source": [
    "Add our custom control module"
   ]
  },
  {
   "cell_type": "code",
   "execution_count": null,
   "metadata": {},
   "outputs": [],
   "source": [
    "sim.add_control(MyControl())"
   ]
  },
  {
   "cell_type": "markdown",
   "metadata": {},
   "source": [
    "Run simulation and show sensor readings over time"
   ]
  },
  {
   "cell_type": "code",
   "execution_count": null,
   "metadata": {},
   "outputs": [],
   "source": [
    "scada_data = sim.run_simulation()"
   ]
  },
  {
   "cell_type": "code",
   "execution_count": null,
   "metadata": {},
   "outputs": [],
   "source": [
    "plot_timeseries_data(scada_data.get_data_pumps_state().T,\n",
    "                     x_axis_label=\"Time (30min steps)\", y_axis_label=\"Pump state\")"
   ]
  },
  {
   "cell_type": "code",
   "execution_count": null,
   "metadata": {},
   "outputs": [],
   "source": [
    "plot_timeseries_data(scada_data.get_data_tanks_water_volume().T,\n",
    "                     x_axis_label=\"Time (30min steps)\",\n",
    "                     y_axis_label=\"Water volume in $m^3$\")"
   ]
  },
  {
   "cell_type": "markdown",
   "metadata": {},
   "source": [
    "Do not forget to close the simulation!"
   ]
  },
  {
   "cell_type": "code",
   "execution_count": null,
   "metadata": {},
   "outputs": [],
   "source": [
    "sim.close()"
   ]
  }
 ],
 "metadata": {
  "language_info": {
   "name": "python"
  }
 },
 "nbformat": 4,
 "nbformat_minor": 2
}
